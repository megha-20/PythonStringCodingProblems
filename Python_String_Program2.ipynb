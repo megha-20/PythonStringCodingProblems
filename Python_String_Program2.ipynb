{
 "cells": [
  {
   "cell_type": "markdown",
   "metadata": {},
   "source": [
    "# 2. Write a program to sort characters of the string, first alphabet symbols followed by digits\n",
    "\n",
    "##  Input:   B4A1D3\n",
    "\n",
    "## Output: ABD134"
   ]
  },
  {
   "cell_type": "markdown",
   "metadata": {},
   "source": [
    "In this program, we have used following functions:\n",
    "\n",
    "1) ***isalpha()*** - It is a built-in method in python. The ***isalpha()*** method returns ***TRUE*** if all characters in the string are alphabets, otherwise, it returns ***FALSE***\n",
    "\n",
    "2) ***sorted()*** - It returns a sorted list of the specified iterable object. ***Strings*** are sorted ***alphabetically***, and ***numbers*** are sorted ***numerically***\n",
    "\n",
    "3) ***join()*** - It is a string method and returns a string in which the elements of sequence have been joined by str separator."
   ]
  },
  {
   "cell_type": "code",
   "execution_count": 1,
   "metadata": {},
   "outputs": [
    {
     "name": "stdout",
     "output_type": "stream",
     "text": [
      "Enter an alphanumeric string: B4A1D3\n",
      "ABD134\n"
     ]
    }
   ],
   "source": [
    "S = input(\"Enter an alphanumeric string: \")\n",
    "\n",
    "Output = []\n",
    "\n",
    "alphabets = []\n",
    "\n",
    "digits = []\n",
    "\n",
    "for ch in S:\n",
    "    \n",
    "    if ch.isalpha():\n",
    "        alphabets.append(ch)     # separating alphabets from a entered string\n",
    "        \n",
    "    else:\n",
    "        digits.append(ch)       # separating digits from a entered string\n",
    "        \n",
    "Output = ''.join(sorted(alphabets) + sorted(digits))   # joining the sorted lists \n",
    "\n",
    "print(Output)"
   ]
  },
  {
   "cell_type": "code",
   "execution_count": null,
   "metadata": {},
   "outputs": [],
   "source": []
  }
 ],
 "metadata": {
  "kernelspec": {
   "display_name": "Python 3",
   "language": "python",
   "name": "python3"
  },
  "language_info": {
   "codemirror_mode": {
    "name": "ipython",
    "version": 3
   },
   "file_extension": ".py",
   "mimetype": "text/x-python",
   "name": "python",
   "nbconvert_exporter": "python",
   "pygments_lexer": "ipython3",
   "version": "3.7.6"
  }
 },
 "nbformat": 4,
 "nbformat_minor": 4
}
