{
 "cells": [
  {
   "cell_type": "markdown",
   "metadata": {},
   "source": [
    "# 1. Write a program for the following requirement ?\n"
   ]
  },
  {
   "cell_type": "markdown",
   "metadata": {},
   "source": [
    "## Input    : a4k3b2\n",
    "\n",
    "## Output : aeknbd"
   ]
  },
  {
   "cell_type": "markdown",
   "metadata": {},
   "source": [
    "In this program, we need to use the following two functions:\n",
    "\n",
    "1. ***ord():*** To find unicode value for the given character\n",
    "    \n",
    "   ***Example:*** print(ord('a'))\n",
    "   \n",
    "   ***Output:*** 97\n",
    "   \n",
    "   \n",
    "2. ***chr():*** To find corresponding character for the given unicode value\n",
    "\n",
    "   ***Example:*** print(chr(97))\n",
    "   \n",
    "   ***Output:*** a\n",
    "   \n",
    "   "
   ]
  },
  {
   "cell_type": "code",
   "execution_count": 2,
   "metadata": {},
   "outputs": [
    {
     "name": "stdout",
     "output_type": "stream",
     "text": [
      "Enter a String with required assumptions a4k3b2\n",
      "aeknbd\n"
     ]
    }
   ],
   "source": [
    "s = input(\"Enter a String with required assumptions \")\n",
    "output = ''\n",
    "for ch in s:\n",
    "    if ch.isalpha():\n",
    "        x = ch\n",
    "        output = output + ch\n",
    "        \n",
    "    else:\n",
    "        d = int(ch)\n",
    "        newchar = chr(ord(x)+d)\n",
    "        output = output + newchar\n",
    "        \n",
    "print(output)"
   ]
  },
  {
   "cell_type": "code",
   "execution_count": null,
   "metadata": {},
   "outputs": [],
   "source": []
  }
 ],
 "metadata": {
  "kernelspec": {
   "display_name": "Python 3",
   "language": "python",
   "name": "python3"
  },
  "language_info": {
   "codemirror_mode": {
    "name": "ipython",
    "version": 3
   },
   "file_extension": ".py",
   "mimetype": "text/x-python",
   "name": "python",
   "nbconvert_exporter": "python",
   "pygments_lexer": "ipython3",
   "version": "3.7.6"
  }
 },
 "nbformat": 4,
 "nbformat_minor": 4
}
