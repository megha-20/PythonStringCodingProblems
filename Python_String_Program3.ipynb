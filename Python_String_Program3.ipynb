{
 "cells": [
  {
   "cell_type": "markdown",
   "metadata": {},
   "source": [
    "# 3. Write a program to reverse a given string ?"
   ]
  },
  {
   "cell_type": "markdown",
   "metadata": {},
   "source": [
    "## Input: friend\n",
    "\n",
    "## Output: dneirf"
   ]
  },
  {
   "cell_type": "markdown",
   "metadata": {},
   "source": [
    "This program can be solved in multiple ways\n",
    "\n",
    "***Method 1: Using python slice string***\n",
    "\n",
    "***Syntax***: ***str_object[start_pos:end_pos:step]***  \n",
    "\n",
    "1. The slicing starts with ***start_pos index(included)*** and ends at ***end_pos index(excluded)***. The step parameter is used to specify the steps to take from start to end index.\n",
    "\n",
    "2. All these parameters are optional\n",
    "   \n",
    "   start_pos - default value is ***0***\n",
    "   \n",
    "   end_pos - default value is ***the length of string***\n",
    "   \n",
    "   step - default value is ***1***\n",
    "\n",
    "\n",
    "\n",
    "\n",
    "\n"
   ]
  },
  {
   "cell_type": "code",
   "execution_count": 2,
   "metadata": {},
   "outputs": [
    {
     "name": "stdout",
     "output_type": "stream",
     "text": [
      "Enter a String to Reverse: friend\n",
      "dneirf\n"
     ]
    }
   ],
   "source": [
    "S = input(\"Enter a String to Reverse: \")\n",
    "\n",
    "Output = S[::-1] #step = -1   --> will traverse the list in reverse direction (that is from right to left--> backward direction)\n",
    "\n",
    "print(Output)\n",
    "\n"
   ]
  },
  {
   "cell_type": "code",
   "execution_count": null,
   "metadata": {},
   "outputs": [],
   "source": []
  }
 ],
 "metadata": {
  "kernelspec": {
   "display_name": "Python 3",
   "language": "python",
   "name": "python3"
  },
  "language_info": {
   "codemirror_mode": {
    "name": "ipython",
    "version": 3
   },
   "file_extension": ".py",
   "mimetype": "text/x-python",
   "name": "python",
   "nbconvert_exporter": "python",
   "pygments_lexer": "ipython3",
   "version": "3.7.6"
  }
 },
 "nbformat": 4,
 "nbformat_minor": 4
}
